{
 "cells": [
  {
   "cell_type": "code",
   "execution_count": 1,
   "metadata": {},
   "outputs": [],
   "source": [
    "%load_ext autoreload\n",
    "%autoreload 2"
   ]
  },
  {
   "cell_type": "code",
   "execution_count": 2,
   "metadata": {},
   "outputs": [],
   "source": [
    "import os\n",
    "from verbio import readers, features, settings, preprocessing, temporal, visualize, utils\n",
    "import numpy as np\n",
    "import pandas as pd\n",
    "from scipy.stats import pearsonr"
   ]
  },
  {
   "cell_type": "code",
   "execution_count": 3,
   "metadata": {},
   "outputs": [],
   "source": [
    "win_len = 15.0\n",
    "win_stride = 5.0\n",
    "eda_threshold = 2\n",
    "hr_threshold = 0.2\n",
    "pt_range = range(1, 74)\n",
    "\n",
    "pt_names = [f'P{pt:03d}' for pt in pt_range]\n",
    "sessions = ['TEST01','TEST02','TEST03','TEST04','TEST05','TEST06','TEST07','TEST08']\n",
    "\n",
    "base_dir = '/home/jason/hubbs/project_verbio/data/raw/'\n",
    "survey_dir = '/home/jason/hubbs/project_verbio/data/surveys/'\n",
    "\n",
    "eda_fname = 'E4_EDA_PPT.xlsx'\n",
    "hr_fname = 'E4_HR_PPT.xlsx'"
   ]
  },
  {
   "cell_type": "code",
   "execution_count": 12,
   "metadata": {
    "scrolled": true
   },
   "outputs": [
    {
     "name": "stdout",
     "output_type": "stream",
     "text": [
      "Participant P004 has correlation: 0.270 | p-value: 0.518\n",
      "Participant P005 has correlation: -0.243 | p-value: 0.561\n",
      "Participant P008 has correlation: 0.190 | p-value: 0.653\n",
      "Participant P016 has correlation: 0.104 | p-value: 0.806\n",
      "Participant P020 has correlation: 0.526 | p-value: 0.180\n",
      "Participant P021 has correlation: 0.270 | p-value: 0.517\n",
      "Participant P023 has correlation: -0.666 | p-value: 0.071\n",
      "Participant P032 has correlation: 0.455 | p-value: 0.257\n",
      "Participant P035 has correlation: 0.163 | p-value: 0.700\n",
      "Participant P037 has correlation: 0.506 | p-value: 0.200\n",
      "Participant P039 has correlation: -0.267 | p-value: 0.522\n",
      "Participant P041 has correlation: 0.507 | p-value: 0.199\n",
      "Participant P042 has correlation: -0.557 | p-value: 0.151\n",
      "Participant P044 has correlation: -0.294 | p-value: 0.479\n",
      "Participant P047 has correlation: 0.817 | p-value: 0.013\n",
      "Participant P050 has correlation: -0.567 | p-value: 0.143\n",
      "Participant P051 has correlation: -0.237 | p-value: 0.571\n",
      "Participant P053 has correlation: -0.575 | p-value: 0.136\n",
      "Participant P060 has correlation: 0.255 | p-value: 0.543\n",
      "Participant P061 has correlation: 0.284 | p-value: 0.495\n",
      "Participant P062 has correlation: 0.577 | p-value: 0.135\n",
      "Participant P065 has correlation: 0.234 | p-value: 0.577\n",
      "Participant P066 has correlation: 0.199 | p-value: 0.637\n",
      "Participant P071 has correlation: 0.560 | p-value: 0.149\n",
      "Participant P073 has correlation: -0.168 | p-value: 0.690\n",
      "Total corr: -0.147 | Total p: 0.037.\n"
     ]
    }
   ],
   "source": [
    "all_triggers, all_scores = [], []\n",
    "\n",
    "for pt in pt_names:\n",
    "    triggers, survey_scores = [], []\n",
    "    pt_valid = True\n",
    "    for session in sessions:\n",
    "        # Build paths to data\n",
    "        survey_fname = f'{session}_afterPPT.xlsx'\n",
    "        survey_path = os.path.join(survey_dir, session, survey_fname)\n",
    "        eda_path = os.path.join(base_dir, pt, session, eda_fname)\n",
    "        hr_path = os.path.join(base_dir, pt, session, hr_fname)\n",
    "        # Skip session if missing\n",
    "        if not os.path.exists(eda_path) or not os.path.exists(hr_path) or not os.path.exists(survey_path):\n",
    "            pt_valid = False\n",
    "            break\n",
    "        \n",
    "        # Read in dfs\n",
    "        eda_df = readers.read_excel(eda_path)\n",
    "        hr_df = readers.read_excel(hr_path)\n",
    "        survey_df = pd.read_excel(survey_path, engine='openpyxl')\n",
    "        # Convert EDA signals to numpy\n",
    "        eda_signal = eda_df['EDA'].to_numpy()\n",
    "        eda_times = eda_df[settings.time_key].to_numpy()\n",
    "        # Get EDA features\n",
    "        eda_fx = features.eda_features(\n",
    "            signal=eda_signal, \n",
    "            times=eda_times, \n",
    "            sr=4, \n",
    "            win_len=win_len, \n",
    "            win_stride=win_stride\n",
    "        )[['SCR_Peaks']]\n",
    "        eda_fx = np.squeeze(eda_fx)\n",
    "        # Convert HR signals to numpy\n",
    "        hr_signal = hr_df['HR'].to_numpy()\n",
    "        hr_times = hr_df[settings.time_key].to_numpy()\n",
    "        # Window HR\n",
    "        hr_fx = preprocessing.window_timed(\n",
    "            x=np.gradient(hr_signal),\n",
    "            times=hr_times,\n",
    "            win_len=win_len,\n",
    "            win_stride=win_stride,\n",
    "            win_fn=lambda x: np.max(x)\n",
    "        )\n",
    "        hr_fx = np.array(hr_fx)\n",
    "        # Parse survey score for anxiety\n",
    "        survey_fx = survey_df[survey_df['PID'] == pt]['State Anxiety Enthusiasm Score'].iloc[0]\n",
    "        # Count occurrences\n",
    "        min_len = min(eda_fx.shape[0], hr_fx.shape[0])\n",
    "        eda_fx = eda_fx[:min_len]\n",
    "        hr_fx = hr_fx[:min_len]\n",
    "        df = pd.DataFrame({'EDA':eda_fx,'HR':hr_fx})\n",
    "        result_df = df[(df['HR'] > hr_threshold) | (df['EDA'] >= eda_threshold)]\n",
    "        \n",
    "        triggers.append(len(result_df)/len(df))\n",
    "        survey_scores.append(survey_fx)\n",
    "    \n",
    "    if pt_valid:\n",
    "        corr, p = pearsonr(triggers, survey_scores)\n",
    "        print(f'Participant {pt} has correlation: {corr:.3f} | p-value: {p:.3f}')\n",
    "        all_triggers += triggers\n",
    "        all_scores += survey_scores\n",
    "\n",
    "total_corr, total_p = pearsonr(all_triggers, all_scores)\n",
    "print(f'Total corr: {total_corr:.3f} | Total p: {total_p:.3f}.')\n"
   ]
  }
 ],
 "metadata": {
  "kernelspec": {
   "display_name": "Python 3",
   "language": "python",
   "name": "python3"
  },
  "language_info": {
   "codemirror_mode": {
    "name": "ipython",
    "version": 3
   },
   "file_extension": ".py",
   "mimetype": "text/x-python",
   "name": "python",
   "nbconvert_exporter": "python",
   "pygments_lexer": "ipython3",
   "version": "3.6.9"
  }
 },
 "nbformat": 4,
 "nbformat_minor": 2
}
